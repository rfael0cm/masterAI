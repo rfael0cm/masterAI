{
 "cells": [
  {
   "cell_type": "markdown",
   "metadata": {},
   "source": [
    "1.Identificador válido. Para que los identificadoreso nombres de las variables o funcionessean válidos  deben  comenzar  e  incluir  letras  a..z.  (minúscula  o  mayúscula)  o  el  guiónbajo  (_). Pueden incluirtambiénnúmeros (0..9) pero que no sean el primer carácter del identificador.Diseña una función FirstChar(s)que, dado un string s(no vacío), nos devuelva True o False si el string es válido o no para identificar o dar nombre a una variable o función1.\n",
    "\n"
   ]
  },
  {
   "cell_type": "code",
   "execution_count": 2,
   "metadata": {},
   "outputs": [
    {
     "name": "stdout",
     "output_type": "stream",
     "text": [
      "True\n",
      "True\n",
      "False\n",
      "True\n",
      "False\n"
     ]
    }
   ],
   "source": [
    "def FirstChar(s):\n",
    "    if s[0].isalpha() or s[0] == \"_\":\n",
    "        return(True)\n",
    "    else: return(False)\n",
    "    \n",
    "print(FirstChar('paciente001'))\n",
    "print(FirstChar('P001'))\n",
    "print(FirstChar('1Pac'))\n",
    "print(FirstChar('_001'))\n",
    "print(FirstChar(':p001'))\n"
   ]
  },
  {
   "cell_type": "markdown",
   "metadata": {},
   "source": [
    "2.Porcentaje  de  vocales.  Escribe  una  función porcentVocal(s)en  que  dado  un  string s,  la función devuelva el porcentaje de vocales que contiene el string. Deben considerarse vocales minúsculas ymayúsculas. Devolver el resultado con un decimalde precisión.Consideraremos que las vocales están sin tilde o acento gráfico.Se valorará prever el caso que se envíe como argumento un string vacío."
   ]
  },
  {
   "cell_type": "code",
   "execution_count": 19,
   "metadata": {},
   "outputs": [
    {
     "name": "stdout",
     "output_type": "stream",
     "text": [
      "50.0\n",
      "66.7\n",
      "0.0\n",
      "100.0\n",
      "Has de introducir una string.\n",
      "None\n",
      "El elemento s esta vacio. Introduce una palabra correcta\n",
      "None\n"
     ]
    }
   ],
   "source": [
    "def porcentVocal(s):\n",
    "    if type(s) != str:\n",
    "        print(\"Has de introducir una string.\")\n",
    "    elif len(s) == 0:\n",
    "        print(\"El elemento s esta vacio. Introduce una palabra correcta\")\n",
    "    else:\n",
    "        voc_count = 0\n",
    "        for i in s:\n",
    "            if i in \"aeiouAEIOU\":\n",
    "                voc_count += 1\n",
    "        per = voc_count/len(s)\n",
    "        return(round(per*100,1))\n",
    "\n",
    "print(porcentVocal('Hola'))\n",
    "print(porcentVocal('Acacia'))\n",
    "print(porcentVocal('Brrrrrrr'))\n",
    "print(porcentVocal('aAe'))\n",
    "print(porcentVocal(9))\n",
    "print(porcentVocal(\"\"))"
   ]
  },
  {
   "cell_type": "markdown",
   "metadata": {},
   "source": [
    "3.Nuevo string. Diseña una funciónnuevo_string (s, n) que, dado un string sy un entero n≥ 0, devuelva el string resultante de repetir cada vocal de sexactamente nveces en el lugar donde se encuentra situada en s."
   ]
  },
  {
   "cell_type": "code",
   "execution_count": 26,
   "metadata": {},
   "outputs": [
    {
     "name": "stdout",
     "output_type": "stream",
     "text": [
      "Chaarleestoon\n",
      "RDT11\n",
      "H2OOO\n",
      "hl\n"
     ]
    }
   ],
   "source": [
    "def nuevo_string(s,n):\n",
    "    if type(s) != str:\n",
    "        print(\"Has de introducir una string.\")\n",
    "    elif len(s) == 0:\n",
    "        print(\"El elemento s esta vacio. Introduce una palabra correcta\")\n",
    "    else:\n",
    "        news =\"\"\n",
    "        for i in s:\n",
    "            if i in \"aeiouAEIOU\":\n",
    "                newi = i*n\n",
    "            else: newi = i\n",
    "            news += newi\n",
    "    return(news)\n",
    "\n",
    "print(nuevo_string('Charleston', 2))\n",
    "print(nuevo_string('RDT11', 1))\n",
    "print(nuevo_string('H2O', 3))\n",
    "print(nuevo_string(\"hola\", 0))"
   ]
  },
  {
   "cell_type": "markdown",
   "metadata": {},
   "source": [
    "4.Notas al pie de página. Diseña una función notas_al_pie(s)que, dado un string sformado sólo por letras, signos de puntuacióny asteriscos que indican una llamada a una nota al pie de página,  devuelva  un  string  donde  cada  asterisco es  sustituido  por  un  número  entre paréntesisque indica el número de nota.El primer * se substituye por (1), el segundo por (2), etc."
   ]
  },
  {
   "cell_type": "code",
   "execution_count": 31,
   "metadata": {},
   "outputs": [
    {
     "name": "stdout",
     "output_type": "stream",
     "text": [
      "Esta es la primera nota (1); y esta la segunda (2).\n",
      "Esta frase no tiene notas. Esta otra tampoco.\n",
      " (1), (2).  (3).\n"
     ]
    }
   ],
   "source": [
    "def notas_al_pie(s):\n",
    "    count = 1\n",
    "    news= \"\"\n",
    "    for i in s:\n",
    "        if i == \"*\":\n",
    "            newi = \" (\"+str(count)+\")\"\n",
    "            count += 1\n",
    "        else: newi = i\n",
    "        news += newi\n",
    "    return(news)\n",
    "\n",
    "print(notas_al_pie('Esta es la primera nota*; y esta la segunda*.'))\n",
    "print(notas_al_pie('Esta frase no tiene notas. Esta otra tampoco.'))\n",
    "print(notas_al_pie('*,*. *.'))"
   ]
  }
 ],
 "metadata": {
  "kernelspec": {
   "display_name": "Python 3",
   "language": "python",
   "name": "python3"
  },
  "language_info": {
   "codemirror_mode": {
    "name": "ipython",
    "version": 3
   },
   "file_extension": ".py",
   "mimetype": "text/x-python",
   "name": "python",
   "nbconvert_exporter": "python",
   "pygments_lexer": "ipython3",
   "version": "3.8.5"
  }
 },
 "nbformat": 4,
 "nbformat_minor": 4
}
